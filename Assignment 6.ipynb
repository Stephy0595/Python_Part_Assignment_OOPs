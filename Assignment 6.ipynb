{
 "cells": [
  {
   "cell_type": "code",
   "execution_count": 9,
   "id": "54588e28-1302-431c-aa0c-598b9376095d",
   "metadata": {},
   "outputs": [
    {
     "name": "stdout",
     "output_type": "stream",
     "text": [
      "Core Course:\n",
      "Course Code:  CS101\n",
      "Course Name:  Introduction to Computer Science\n",
      "Credit Hours:  3\n",
      "Required for Major:  Yes\n",
      "\n",
      "Elective Course:\n",
      "Course Code:  CTS401\n",
      "Course Name:  Control System\n",
      "Credit Hours:  4\n",
      "Elective Type:  technical\n"
     ]
    }
   ],
   "source": [
    "# 1:Build a program to manage a university's course catalog. \n",
    "#You want to define a base class Course that has the following properties:\n",
    "#course_code: a string representing the course code.\n",
    "#course_name: a string representing the course name.\n",
    "#credit_hours: an integer representing the credit hours for the course.\n",
    "#You also want to define two subclasses CoreCourse and ElectiveCourse, which inherit from the Course class.\n",
    "#CoreCourse should have an additional property required_for_major which is a boolean representing whether the course is required for a particular major. \n",
    "#ElectiveCourse should have an additional property elective_type which is a string representing the type of elective.\n",
    "\n",
    "class Course:\n",
    "    def set_course_details(self, course_code, course_name, credit_hours):\n",
    "        self.course_code = course_code\n",
    "        self.course_name = course_name\n",
    "        self.credit_hours = credit_hours\n",
    "\n",
    "    def display_course_info(self):\n",
    "        print(\"Course Code: \", self.course_code)\n",
    "        print(\"Course Name: \", self.course_name)\n",
    "        print(\"Credit Hours: \", self.credit_hours)\n",
    "\n",
    "class CoreCourse(Course):\n",
    "    def set_required_for_major(self, required_for_major):\n",
    "        self.required_for_major = required_for_major\n",
    "\n",
    "    def display_course_info(self):\n",
    "        super().display_course_info()\n",
    "        print(\"Required for Major: \", 'Yes' if self.required_for_major else 'No')\n",
    "        \n",
    "class ElectiveCourse(Course):\n",
    "    def set_elective_type(self, elective_type):\n",
    "        self.elective_type = elective_type\n",
    "\n",
    "    def display_course_info(self):\n",
    "        super().display_course_info()\n",
    "        print(\"Elective Type: \",self.elective_type)\n",
    "\n",
    "core_course = CoreCourse()\n",
    "core_course.set_course_details(\"CS101\", \"Introduction to Computer Science\", 3)\n",
    "core_course.set_required_for_major(True)\n",
    "print(\"Core Course:\")\n",
    "core_course.display_course_info()\n",
    "\n",
    "elective_course = ElectiveCourse()\n",
    "elective_course.set_course_details(\"CTS401\", \"Control System\", 4)\n",
    "elective_course.set_elective_type(\"technical\")\n",
    "print(\"\\nElective Course:\")\n",
    "elective_course.display_course_info()\n",
    " "
   ]
  },
  {
   "cell_type": "code",
   "execution_count": 10,
   "id": "bf240985-3926-4fc3-b749-50738ce4b2bf",
   "metadata": {},
   "outputs": [
    {
     "name": "stdout",
     "output_type": "stream",
     "text": [
      "Employee Name:Stephy Mariam Mathew\n",
      "Employee Salary:60000\n"
     ]
    }
   ],
   "source": [
    "#2:Create a Python module named employee that contains a class Employee with attributes name, salary and methods get_name() and get_salary().\n",
    "# Write a program to use this module to create an object of the Employee class and display its name and salary.\n",
    "name=\"Stephy Mariam Mathew\"\n",
    "salary=10000\n",
    "class Employee:\n",
    "    def _init_(self):\n",
    "        pass\n",
    "    def get_name(self,name):\n",
    "        print(f\"Employee Name:{name}\")\n",
    "\n",
    "    def get_salary(self,salary):\n",
    "        print(f\"Employee Salary:{salary}\")\n",
    "employee_details = Employee()\n",
    "employee_details.get_name(\"Stephy Mariam Mathew\")\n",
    "employee_details.get_salary(60000)"
   ]
  },
  {
   "cell_type": "code",
   "execution_count": null,
   "id": "99cdb5f2-52ee-4dce-bd4a-e1d51c8fe6d3",
   "metadata": {},
   "outputs": [],
   "source": []
  }
 ],
 "metadata": {
  "kernelspec": {
   "display_name": "Python 3 (ipykernel)",
   "language": "python",
   "name": "python3"
  },
  "language_info": {
   "codemirror_mode": {
    "name": "ipython",
    "version": 3
   },
   "file_extension": ".py",
   "mimetype": "text/x-python",
   "name": "python",
   "nbconvert_exporter": "python",
   "pygments_lexer": "ipython3",
   "version": "3.12.7"
  }
 },
 "nbformat": 4,
 "nbformat_minor": 5
}
